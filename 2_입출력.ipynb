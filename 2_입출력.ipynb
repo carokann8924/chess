{
  "nbformat": 4,
  "nbformat_minor": 0,
  "metadata": {
    "colab": {
      "provenance": [],
      "include_colab_link": true
    },
    "kernelspec": {
      "name": "python3",
      "display_name": "Python 3"
    }
  },
  "cells": [
    {
      "cell_type": "markdown",
      "metadata": {
        "id": "view-in-github",
        "colab_type": "text"
      },
      "source": [
        "<a href=\"https://colab.research.google.com/github/carokann8924/chess/blob/main/2_%EC%9E%85%EC%B6%9C%EB%A0%A5.ipynb\" target=\"_parent\"><img src=\"https://colab.research.google.com/assets/colab-badge.svg\" alt=\"Open In Colab\"/></a>"
      ]
    },
    {
      "cell_type": "markdown",
      "metadata": {
        "id": "6VICvDDuPykk"
      },
      "source": [
        "\n",
        "# 1. 파이썬 명령어 형식\n",
        "<img src='https://github.com/teacher-jiejie/allinone_AI/blob/images/0_%EB%AA%85%EB%A0%B9%EC%96%B4.png?raw=true' width=400>"
      ]
    },
    {
      "cell_type": "markdown",
      "metadata": {
        "id": "LJAHyqRXU_tN"
      },
      "source": [
        "# 2. 출력명령어\n",
        "### 출력 명령어 형식\n",
        "\n",
        "\n",
        "> print( 출력할 내용 )\n",
        "\n",
        "\n"
      ]
    },
    {
      "cell_type": "code",
      "metadata": {
        "id": "fHog4iYYL-q4",
        "colab": {
          "base_uri": "https://localhost:8080/"
        },
        "outputId": "da52f3a4-cfa9-41de-de8d-acdec1a2312f"
      },
      "source": [
        "# 숫자 출력 1030\n",
        "print(1030)"
      ],
      "execution_count": null,
      "outputs": [
        {
          "output_type": "stream",
          "name": "stdout",
          "text": [
            "1030\n"
          ]
        }
      ]
    },
    {
      "cell_type": "code",
      "metadata": {
        "id": "-Mn2gKC1y2XL",
        "colab": {
          "base_uri": "https://localhost:8080/"
        },
        "outputId": "18c1e6f1-0fa2-4c43-f03a-9da97bf8e419"
      },
      "source": [
        "# 문자 출력 10월 30일\n",
        "print( '10월 30일' )"
      ],
      "execution_count": null,
      "outputs": [
        {
          "output_type": "stream",
          "name": "stdout",
          "text": [
            "10월 30일\n"
          ]
        }
      ]
    },
    {
      "cell_type": "markdown",
      "metadata": {
        "id": "KqFYkVtu_foZ"
      },
      "source": [
        "### 문자는 따옴표로 감싸주어야 함\n",
        "> print('문자')"
      ]
    },
    {
      "cell_type": "code",
      "metadata": {
        "id": "HndD3I4ybonQ"
      },
      "source": [
        "# 문자는 따옴표로 감싸주어야 함"
      ],
      "execution_count": null,
      "outputs": []
    },
    {
      "cell_type": "code",
      "metadata": {
        "id": "GXO9r4k0_M42"
      },
      "source": [
        "print(렛츠기릿파이썬)"
      ],
      "execution_count": null,
      "outputs": []
    },
    {
      "cell_type": "code",
      "metadata": {
        "id": "_eXE0Zei_TnT",
        "colab": {
          "base_uri": "https://localhost:8080/"
        },
        "outputId": "25be7d28-1844-4949-d17d-d4fa8351b737"
      },
      "source": [
        "print('렛츠기릿파이썬')"
      ],
      "execution_count": null,
      "outputs": [
        {
          "output_type": "stream",
          "name": "stdout",
          "text": [
            "렛츠기릿파이썬\n"
          ]
        }
      ]
    },
    {
      "cell_type": "code",
      "metadata": {
        "id": "RqdNnVh2bopV"
      },
      "source": [
        "# 연산하여 출력하기\n",
        "#  12와 34의 + - * /"
      ],
      "execution_count": null,
      "outputs": []
    },
    {
      "cell_type": "code",
      "metadata": {
        "id": "h2t7k_yh-IMC",
        "colab": {
          "base_uri": "https://localhost:8080/"
        },
        "outputId": "9de0d5ff-b934-4968-e77c-02ca15a51985"
      },
      "source": [
        "# 숫자라 하더라도 따옴표로 감싸면 문자로 인식\n",
        "print('12+34')"
      ],
      "execution_count": null,
      "outputs": [
        {
          "output_type": "stream",
          "name": "stdout",
          "text": [
            "46\n"
          ]
        }
      ]
    },
    {
      "cell_type": "code",
      "metadata": {
        "id": "osxJgfZU_b3y"
      },
      "source": [
        "# ** 제곱\n",
        "print(5**2)\n",
        "\n",
        "# 몫\n",
        "print(5//2)\n",
        "\n",
        "# 나머지\n",
        "print(5%2)"
      ],
      "execution_count": null,
      "outputs": []
    },
    {
      "cell_type": "markdown",
      "metadata": {
        "id": "OEQFUbNCA9fm"
      },
      "source": [
        "### 연결하여 출력하기\n",
        "> print(  ,  )\n",
        "<br/>\n",
        "> print(  +  )"
      ]
    },
    {
      "cell_type": "code",
      "metadata": {
        "id": "O0URZFHFAFfE",
        "colab": {
          "base_uri": "https://localhost:8080/"
        },
        "outputId": "7ab061b3-f36d-42dc-e814-1fa4380728ea"
      },
      "source": [
        "# 콤마, 로 연결하여 출력하기\n",
        "print('파이썬', '안녕!')"
      ],
      "execution_count": null,
      "outputs": [
        {
          "output_type": "stream",
          "name": "stdout",
          "text": [
            "파이썬 안녕!\n"
          ]
        }
      ]
    },
    {
      "cell_type": "code",
      "metadata": {
        "id": "QEjssp5gAU2N",
        "colab": {
          "base_uri": "https://localhost:8080/"
        },
        "outputId": "e4c093e4-6a3e-46ed-d2d2-be2290e90b33"
      },
      "source": [
        "# 더하기 +로 연결하여 출력하기\n",
        "print('파이썬'+ '안녕!')"
      ],
      "execution_count": null,
      "outputs": [
        {
          "output_type": "stream",
          "name": "stdout",
          "text": [
            "파이썬안녕!\n"
          ]
        }
      ]
    },
    {
      "cell_type": "code",
      "metadata": {
        "id": "BXvFmqhtAzy1",
        "colab": {
          "base_uri": "https://localhost:8080/"
        },
        "outputId": "b0a3cc10-5c74-44d5-8569-619bbfd67087"
      },
      "source": [
        "print('파이썬', 12*34, '안녕')"
      ],
      "execution_count": null,
      "outputs": [
        {
          "output_type": "stream",
          "name": "stdout",
          "text": [
            "파이썬 408 안녕\n"
          ]
        }
      ]
    },
    {
      "cell_type": "code",
      "metadata": {
        "id": "Pme3T740B8JM"
      },
      "source": [
        "print('파이썬'+ 12*34)"
      ],
      "execution_count": null,
      "outputs": []
    },
    {
      "cell_type": "code",
      "metadata": {
        "id": "GgiECjfSO8Nu"
      },
      "source": [
        "print('파이썬'+ 12)"
      ],
      "execution_count": null,
      "outputs": []
    },
    {
      "cell_type": "markdown",
      "metadata": {
        "id": "Y5VKN8McEun1"
      },
      "source": [
        "실습 1. 본인 이름, 관심분야를 한 줄로 출력해보기"
      ]
    },
    {
      "cell_type": "code",
      "metadata": {
        "id": "tZAX0aBQEtsJ",
        "colab": {
          "base_uri": "https://localhost:8080/"
        },
        "outputId": "4d03d053-49d2-4f27-fe85-fe3c2729d755"
      },
      "source": [
        "# ex) 노진구 인공지능\n"
      ],
      "execution_count": null,
      "outputs": [
        {
          "output_type": "stream",
          "name": "stdout",
          "text": [
            "퉁퉁이 가수\n"
          ]
        }
      ]
    },
    {
      "cell_type": "markdown",
      "metadata": {
        "id": "zNlNwOErClxr"
      },
      "source": [
        "# 3. 입력명령어\n",
        "### 입력명령어 형식\n",
        "> input('입력안내문')"
      ]
    },
    {
      "cell_type": "code",
      "metadata": {
        "id": "P35K2YD_B_fJ"
      },
      "source": [
        "input()"
      ],
      "execution_count": null,
      "outputs": []
    },
    {
      "cell_type": "code",
      "metadata": {
        "id": "g-WfHArdGA8b"
      },
      "source": [
        "input('생일:')"
      ],
      "execution_count": null,
      "outputs": []
    },
    {
      "cell_type": "code",
      "metadata": {
        "id": "WmWrf3RZGMq1"
      },
      "source": [
        "input('아이디 : ')"
      ],
      "execution_count": null,
      "outputs": []
    },
    {
      "cell_type": "code",
      "metadata": {
        "id": "dlc34WbEGQLy",
        "colab": {
          "base_uri": "https://localhost:8080/",
          "height": 71
        },
        "outputId": "d14606a0-2f6f-4675-801a-c1add0d07a06"
      },
      "source": [
        "input('아이디 : ')\n",
        "input('비밀번호 : ')"
      ],
      "execution_count": null,
      "outputs": [
        {
          "name": "stdout",
          "output_type": "stream",
          "text": [
            "아이디 : gg\n",
            "비밀번호 : 1234\n"
          ]
        },
        {
          "output_type": "execute_result",
          "data": {
            "text/plain": [
              "'1234'"
            ],
            "application/vnd.google.colaboratory.intrinsic+json": {
              "type": "string"
            }
          },
          "metadata": {},
          "execution_count": 16
        }
      ]
    },
    {
      "cell_type": "markdown",
      "metadata": {
        "id": "5TblMxseGyGG"
      },
      "source": [
        "### 순차구조\n",
        "\n",
        "<img src='https://github.com/teacher-jiejie/allinone_AI/blob/images/66_%E1%84%89%E1%85%AE%E1%86%AB%E1%84%8E%E1%85%A1%E1%84%80%E1%85%AE%E1%84%8C%E1%85%A9.png?raw=true' width=600>"
      ]
    },
    {
      "cell_type": "code",
      "metadata": {
        "id": "CfX6PoPdGX4T",
        "colab": {
          "base_uri": "https://localhost:8080/",
          "height": 387
        },
        "outputId": "6a70e4bd-f8d5-4f14-f287-b916c9a6e52b"
      },
      "source": [
        "print('---000 웹사이트 회원가입 ---')\n",
        "input('아이디 : ')\n",
        "print('000 웹사이트 가입을 환영합니다!')"
      ],
      "execution_count": null,
      "outputs": [
        {
          "output_type": "stream",
          "name": "stdout",
          "text": [
            "---000 웹사이트 회원가입 ---\n"
          ]
        },
        {
          "output_type": "error",
          "ename": "KeyboardInterrupt",
          "evalue": "ignored",
          "traceback": [
            "\u001b[0;31m---------------------------------------------------------------------------\u001b[0m",
            "\u001b[0;31mKeyboardInterrupt\u001b[0m                         Traceback (most recent call last)",
            "\u001b[0;32m<ipython-input-1-31d559aa92cc>\u001b[0m in \u001b[0;36m<cell line: 2>\u001b[0;34m()\u001b[0m\n\u001b[1;32m      1\u001b[0m \u001b[0mprint\u001b[0m\u001b[0;34m(\u001b[0m\u001b[0;34m'---000 웹사이트 회원가입 ---'\u001b[0m\u001b[0;34m)\u001b[0m\u001b[0;34m\u001b[0m\u001b[0;34m\u001b[0m\u001b[0m\n\u001b[0;32m----> 2\u001b[0;31m \u001b[0minput\u001b[0m\u001b[0;34m(\u001b[0m\u001b[0;34m'아이디 : '\u001b[0m\u001b[0;34m)\u001b[0m\u001b[0;34m\u001b[0m\u001b[0;34m\u001b[0m\u001b[0m\n\u001b[0m\u001b[1;32m      3\u001b[0m \u001b[0mprint\u001b[0m\u001b[0;34m(\u001b[0m\u001b[0;34m'000 웹사이트 가입을 환영합니다!'\u001b[0m\u001b[0;34m)\u001b[0m\u001b[0;34m\u001b[0m\u001b[0;34m\u001b[0m\u001b[0m\n",
            "\u001b[0;32m/usr/local/lib/python3.10/dist-packages/ipykernel/kernelbase.py\u001b[0m in \u001b[0;36mraw_input\u001b[0;34m(self, prompt)\u001b[0m\n\u001b[1;32m    849\u001b[0m                 \u001b[0;34m\"raw_input was called, but this frontend does not support input requests.\"\u001b[0m\u001b[0;34m\u001b[0m\u001b[0;34m\u001b[0m\u001b[0m\n\u001b[1;32m    850\u001b[0m             )\n\u001b[0;32m--> 851\u001b[0;31m         return self._input_request(str(prompt),\n\u001b[0m\u001b[1;32m    852\u001b[0m             \u001b[0mself\u001b[0m\u001b[0;34m.\u001b[0m\u001b[0m_parent_ident\u001b[0m\u001b[0;34m,\u001b[0m\u001b[0;34m\u001b[0m\u001b[0;34m\u001b[0m\u001b[0m\n\u001b[1;32m    853\u001b[0m             \u001b[0mself\u001b[0m\u001b[0;34m.\u001b[0m\u001b[0m_parent_header\u001b[0m\u001b[0;34m,\u001b[0m\u001b[0;34m\u001b[0m\u001b[0;34m\u001b[0m\u001b[0m\n",
            "\u001b[0;32m/usr/local/lib/python3.10/dist-packages/ipykernel/kernelbase.py\u001b[0m in \u001b[0;36m_input_request\u001b[0;34m(self, prompt, ident, parent, password)\u001b[0m\n\u001b[1;32m    893\u001b[0m             \u001b[0;32mexcept\u001b[0m \u001b[0mKeyboardInterrupt\u001b[0m\u001b[0;34m:\u001b[0m\u001b[0;34m\u001b[0m\u001b[0;34m\u001b[0m\u001b[0m\n\u001b[1;32m    894\u001b[0m                 \u001b[0;31m# re-raise KeyboardInterrupt, to truncate traceback\u001b[0m\u001b[0;34m\u001b[0m\u001b[0;34m\u001b[0m\u001b[0m\n\u001b[0;32m--> 895\u001b[0;31m                 \u001b[0;32mraise\u001b[0m \u001b[0mKeyboardInterrupt\u001b[0m\u001b[0;34m(\u001b[0m\u001b[0;34m\"Interrupted by user\"\u001b[0m\u001b[0;34m)\u001b[0m \u001b[0;32mfrom\u001b[0m \u001b[0;32mNone\u001b[0m\u001b[0;34m\u001b[0m\u001b[0;34m\u001b[0m\u001b[0m\n\u001b[0m\u001b[1;32m    896\u001b[0m             \u001b[0;32mexcept\u001b[0m \u001b[0mException\u001b[0m \u001b[0;32mas\u001b[0m \u001b[0me\u001b[0m\u001b[0;34m:\u001b[0m\u001b[0;34m\u001b[0m\u001b[0;34m\u001b[0m\u001b[0m\n\u001b[1;32m    897\u001b[0m                 \u001b[0mself\u001b[0m\u001b[0;34m.\u001b[0m\u001b[0mlog\u001b[0m\u001b[0;34m.\u001b[0m\u001b[0mwarning\u001b[0m\u001b[0;34m(\u001b[0m\u001b[0;34m\"Invalid Message:\"\u001b[0m\u001b[0;34m,\u001b[0m \u001b[0mexc_info\u001b[0m\u001b[0;34m=\u001b[0m\u001b[0;32mTrue\u001b[0m\u001b[0;34m)\u001b[0m\u001b[0;34m\u001b[0m\u001b[0;34m\u001b[0m\u001b[0m\n",
            "\u001b[0;31mKeyboardInterrupt\u001b[0m: Interrupted by user"
          ]
        }
      ]
    }
  ]
}